{
 "cells": [
  {
   "cell_type": "code",
   "execution_count": 39,
   "metadata": {},
   "outputs": [
    {
     "name": "stdout",
     "output_type": "stream",
     "text": [
      "Financial Analysis\n",
      "------------------------------\n",
      "Total Months: 86\n",
      "Total: $38382578\n",
      "Average Change: $-2315.12\n",
      "Greatest Increase in Profits: 2/1/2012 ($1926159)\n",
      "Greatest Decrease in Profits: 9/1/2013 ($-2196167)\n"
     ]
    }
   ],
   "source": [
    "import csv\n",
    "\n",
    "filename = \"C:/Users/dshaf/Documents/School/budget_data.csv\"\n",
    "total_months = 0\n",
    "total_profits = 0\n",
    "profits = []\n",
    "months = []\n",
    "avg_change = 0\n",
    "changes = []\n",
    "largest = 0\n",
    "maximum = 0\n",
    "x = 1\n",
    "\n",
    "with open(filename, 'r') as file:\n",
    "    data = csv.reader(file)\n",
    "    header = next(data)\n",
    "    \n",
    "    for row in data:\n",
    "        total_months += 1\n",
    "        total_profits = total_profits + int(row[1])\n",
    "        profits.append(int(row[1]))\n",
    "        months.append(row[0])\n",
    "\n",
    "\n",
    "        \n",
    "avg_change = round(sum([profits[i+1] - profits[i] for i in range(len(profits)-1)]) / (len(profits) - 1),2)\n",
    "changes = [profits[b+1] - profits[b] for b in range(len(profits)-1)]\n",
    "\n",
    "\n",
    "print(\"Financial Analysis\")\n",
    "print(\"------------------------------\")\n",
    "print(f\"Total Months: {total_months}\")\n",
    "print(f\"Total: ${total_profits}\")\n",
    "print(f\"Average Change: ${avg_change}\")\n",
    "print(f\"Greatest Increase in Profits: {months[changes.index(max(changes)) + 1]} (${max(changes)})\")\n",
    "print(f\"Greatest Decrease in Profits: {months[changes.index(min(changes)) + 1]} (${min(changes)})\")\n",
    "\n",
    "filename = \"C:/Users/dshaf/Documents/School/PythonHW_Take2/PyBank/PyBank_results.txt\"\n",
    "with open(filename, 'w') as results:\n",
    "    csvwriter = csv.writer(results, delimiter = ' ')\n",
    "    \n",
    "    csvwriter.writerow(\"Financial Analysis\")\n",
    "    csvwriter.writerow(\"------------------------------\")\n",
    "    csvwriter.writerow(f\"Total Months: {total_months}\")\n",
    "    csvwriter.writerow(f\"Total: ${total_profits}\")\n",
    "    csvwriter.writerow(f\"Average Change: ${avg_change}\")\n",
    "    csvwriter.writerow(f\"Greatest Increase in Profits: {months[changes.index(max(changes)) + 1]} (${max(changes)})\")\n",
    "    csvwriter.writerow(f\"Greatest Decrease in Profits: {months[changes.index(min(changes)) + 1]} (${min(changes)})\")"
   ]
  },
  {
   "cell_type": "code",
   "execution_count": null,
   "metadata": {},
   "outputs": [],
   "source": []
  }
 ],
 "metadata": {
  "kernelspec": {
   "display_name": "Python [conda root]",
   "language": "python",
   "name": "conda-root-py"
  },
  "language_info": {
   "codemirror_mode": {
    "name": "ipython",
    "version": 3
   },
   "file_extension": ".py",
   "mimetype": "text/x-python",
   "name": "python",
   "nbconvert_exporter": "python",
   "pygments_lexer": "ipython3",
   "version": "3.6.5"
  }
 },
 "nbformat": 4,
 "nbformat_minor": 2
}
